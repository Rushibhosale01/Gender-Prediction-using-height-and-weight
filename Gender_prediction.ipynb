{
  "nbformat": 4,
  "nbformat_minor": 0,
  "metadata": {
    "colab": {
      "name": "Gender prediction.ipynb",
      "provenance": [],
      "collapsed_sections": []
    },
    "kernelspec": {
      "name": "python3",
      "display_name": "Python 3"
    },
    "language_info": {
      "name": "python"
    }
  },
  "cells": [
    {
      "cell_type": "markdown",
      "metadata": {
        "id": "wADNYLfr1Cqt"
      },
      "source": [
        "PROBLEM STATEMENT - Predict gender of person using height and weight"
      ]
    },
    {
      "cell_type": "code",
      "metadata": {
        "id": "viO7pCS7z-C7"
      },
      "source": [
        "#importing all the dependencies\n",
        "import pandas as pd\n",
        "import matplotlib.pyplot as plt\n",
        "from sklearn.model_selection import train_test_split\n",
        "from sklearn import tree\n",
        "from sklearn import svm\n",
        "from sklearn import neighbors\n",
        "from sklearn import metrics\n",
        "from sklearn.naive_bayes import GaussianNB\n",
        "from sklearn.metrics import accuracy_score\n",
        "from sklearn.metrics import confusion_matrix\n",
        "\n",
        "from sklearn.metrics import classification_report"
      ],
      "execution_count": 54,
      "outputs": []
    },
    {
      "cell_type": "code",
      "metadata": {
        "id": "z32v_yN-1c2Q",
        "colab": {
          "base_uri": "https://localhost:8080/",
          "height": 206
        },
        "outputId": "8fe39db8-254c-49ee-fbb9-6573338306e6"
      },
      "source": [
        "#importing data and storing into dataframe\n",
        "path = \"Gender.csv\"\n",
        "df = pd.read_csv(path)\n",
        "df.head()\n",
        "#Height in inches and Weight in pounds"
      ],
      "execution_count": 55,
      "outputs": [
        {
          "output_type": "execute_result",
          "data": {
            "text/html": [
              "\n",
              "  <div id=\"df-a9ea02e9-03db-4f66-a283-ecc62bf0384a\">\n",
              "    <div class=\"colab-df-container\">\n",
              "      <div>\n",
              "<style scoped>\n",
              "    .dataframe tbody tr th:only-of-type {\n",
              "        vertical-align: middle;\n",
              "    }\n",
              "\n",
              "    .dataframe tbody tr th {\n",
              "        vertical-align: top;\n",
              "    }\n",
              "\n",
              "    .dataframe thead th {\n",
              "        text-align: right;\n",
              "    }\n",
              "</style>\n",
              "<table border=\"1\" class=\"dataframe\">\n",
              "  <thead>\n",
              "    <tr style=\"text-align: right;\">\n",
              "      <th></th>\n",
              "      <th>Gender</th>\n",
              "      <th>Height</th>\n",
              "      <th>Weight</th>\n",
              "    </tr>\n",
              "  </thead>\n",
              "  <tbody>\n",
              "    <tr>\n",
              "      <th>0</th>\n",
              "      <td>Male</td>\n",
              "      <td>73.847017</td>\n",
              "      <td>241.893563</td>\n",
              "    </tr>\n",
              "    <tr>\n",
              "      <th>1</th>\n",
              "      <td>Male</td>\n",
              "      <td>68.781904</td>\n",
              "      <td>162.310473</td>\n",
              "    </tr>\n",
              "    <tr>\n",
              "      <th>2</th>\n",
              "      <td>Male</td>\n",
              "      <td>74.110105</td>\n",
              "      <td>212.740856</td>\n",
              "    </tr>\n",
              "    <tr>\n",
              "      <th>3</th>\n",
              "      <td>Male</td>\n",
              "      <td>71.730978</td>\n",
              "      <td>220.042470</td>\n",
              "    </tr>\n",
              "    <tr>\n",
              "      <th>4</th>\n",
              "      <td>Male</td>\n",
              "      <td>69.881796</td>\n",
              "      <td>206.349801</td>\n",
              "    </tr>\n",
              "  </tbody>\n",
              "</table>\n",
              "</div>\n",
              "      <button class=\"colab-df-convert\" onclick=\"convertToInteractive('df-a9ea02e9-03db-4f66-a283-ecc62bf0384a')\"\n",
              "              title=\"Convert this dataframe to an interactive table.\"\n",
              "              style=\"display:none;\">\n",
              "        \n",
              "  <svg xmlns=\"http://www.w3.org/2000/svg\" height=\"24px\"viewBox=\"0 0 24 24\"\n",
              "       width=\"24px\">\n",
              "    <path d=\"M0 0h24v24H0V0z\" fill=\"none\"/>\n",
              "    <path d=\"M18.56 5.44l.94 2.06.94-2.06 2.06-.94-2.06-.94-.94-2.06-.94 2.06-2.06.94zm-11 1L8.5 8.5l.94-2.06 2.06-.94-2.06-.94L8.5 2.5l-.94 2.06-2.06.94zm10 10l.94 2.06.94-2.06 2.06-.94-2.06-.94-.94-2.06-.94 2.06-2.06.94z\"/><path d=\"M17.41 7.96l-1.37-1.37c-.4-.4-.92-.59-1.43-.59-.52 0-1.04.2-1.43.59L10.3 9.45l-7.72 7.72c-.78.78-.78 2.05 0 2.83L4 21.41c.39.39.9.59 1.41.59.51 0 1.02-.2 1.41-.59l7.78-7.78 2.81-2.81c.8-.78.8-2.07 0-2.86zM5.41 20L4 18.59l7.72-7.72 1.47 1.35L5.41 20z\"/>\n",
              "  </svg>\n",
              "      </button>\n",
              "      \n",
              "  <style>\n",
              "    .colab-df-container {\n",
              "      display:flex;\n",
              "      flex-wrap:wrap;\n",
              "      gap: 12px;\n",
              "    }\n",
              "\n",
              "    .colab-df-convert {\n",
              "      background-color: #E8F0FE;\n",
              "      border: none;\n",
              "      border-radius: 50%;\n",
              "      cursor: pointer;\n",
              "      display: none;\n",
              "      fill: #1967D2;\n",
              "      height: 32px;\n",
              "      padding: 0 0 0 0;\n",
              "      width: 32px;\n",
              "    }\n",
              "\n",
              "    .colab-df-convert:hover {\n",
              "      background-color: #E2EBFA;\n",
              "      box-shadow: 0px 1px 2px rgba(60, 64, 67, 0.3), 0px 1px 3px 1px rgba(60, 64, 67, 0.15);\n",
              "      fill: #174EA6;\n",
              "    }\n",
              "\n",
              "    [theme=dark] .colab-df-convert {\n",
              "      background-color: #3B4455;\n",
              "      fill: #D2E3FC;\n",
              "    }\n",
              "\n",
              "    [theme=dark] .colab-df-convert:hover {\n",
              "      background-color: #434B5C;\n",
              "      box-shadow: 0px 1px 3px 1px rgba(0, 0, 0, 0.15);\n",
              "      filter: drop-shadow(0px 1px 2px rgba(0, 0, 0, 0.3));\n",
              "      fill: #FFFFFF;\n",
              "    }\n",
              "  </style>\n",
              "\n",
              "      <script>\n",
              "        const buttonEl =\n",
              "          document.querySelector('#df-a9ea02e9-03db-4f66-a283-ecc62bf0384a button.colab-df-convert');\n",
              "        buttonEl.style.display =\n",
              "          google.colab.kernel.accessAllowed ? 'block' : 'none';\n",
              "\n",
              "        async function convertToInteractive(key) {\n",
              "          const element = document.querySelector('#df-a9ea02e9-03db-4f66-a283-ecc62bf0384a');\n",
              "          const dataTable =\n",
              "            await google.colab.kernel.invokeFunction('convertToInteractive',\n",
              "                                                     [key], {});\n",
              "          if (!dataTable) return;\n",
              "\n",
              "          const docLinkHtml = 'Like what you see? Visit the ' +\n",
              "            '<a target=\"_blank\" href=https://colab.research.google.com/notebooks/data_table.ipynb>data table notebook</a>'\n",
              "            + ' to learn more about interactive tables.';\n",
              "          element.innerHTML = '';\n",
              "          dataTable['output_type'] = 'display_data';\n",
              "          await google.colab.output.renderOutput(dataTable, element);\n",
              "          const docLink = document.createElement('div');\n",
              "          docLink.innerHTML = docLinkHtml;\n",
              "          element.appendChild(docLink);\n",
              "        }\n",
              "      </script>\n",
              "    </div>\n",
              "  </div>\n",
              "  "
            ],
            "text/plain": [
              "  Gender     Height      Weight\n",
              "0   Male  73.847017  241.893563\n",
              "1   Male  68.781904  162.310473\n",
              "2   Male  74.110105  212.740856\n",
              "3   Male  71.730978  220.042470\n",
              "4   Male  69.881796  206.349801"
            ]
          },
          "metadata": {},
          "execution_count": 55
        }
      ]
    },
    {
      "cell_type": "code",
      "metadata": {
        "colab": {
          "base_uri": "https://localhost:8080/"
        },
        "id": "Gh8Qgn-H1c5L",
        "outputId": "df71ee34-e945-4dee-cd6b-cc86a1f230ef"
      },
      "source": [
        "#Checking if there are any null values in dataframe at all\n",
        "df.isnull().sum().sum()"
      ],
      "execution_count": 56,
      "outputs": [
        {
          "output_type": "execute_result",
          "data": {
            "text/plain": [
              "0"
            ]
          },
          "metadata": {},
          "execution_count": 56
        }
      ]
    },
    {
      "cell_type": "code",
      "metadata": {
        "colab": {
          "base_uri": "https://localhost:8080/"
        },
        "id": "ehV5VEEQ1c-C",
        "outputId": "e79eb3d0-db8c-4032-aafc-4864729ec267"
      },
      "source": [
        "print(df.describe())"
      ],
      "execution_count": 57,
      "outputs": [
        {
          "output_type": "stream",
          "name": "stdout",
          "text": [
            "             Height        Weight\n",
            "count  10000.000000  10000.000000\n",
            "mean      66.367560    161.440357\n",
            "std        3.847528     32.108439\n",
            "min       54.263133     64.700127\n",
            "25%       63.505620    135.818051\n",
            "50%       66.318070    161.212928\n",
            "75%       69.174262    187.169525\n",
            "max       78.998742    269.989698\n"
          ]
        }
      ]
    },
    {
      "cell_type": "code",
      "metadata": {
        "colab": {
          "base_uri": "https://localhost:8080/",
          "height": 264
        },
        "id": "HEKd9p651dBh",
        "outputId": "7ef44984-43d1-4a47-ef10-6791bb47ab03"
      },
      "source": [
        "#Checking if data is balanced or not using pie chart for our target variable - gender\n",
        "labels = df.Gender.unique()\n",
        "sizes = [(df.Gender == labels[0]).sum(), (df.Gender == labels[1]).sum()]\n",
        "plt.pie(sizes, labels = labels, autopct='%1.1f%%', startangle = 90)\n",
        "plt.title(\"Checking if data is balanced or not with a pie chart\")\n",
        "plt.show()"
      ],
      "execution_count": 58,
      "outputs": [
        {
          "output_type": "display_data",
          "data": {
            "image/png": "[encoded data removed]",
            "text/plain": [
              "<Figure size 432x288 with 1 Axes>"
            ]
          },
          "metadata": {}
        }
      ]
    },
    {
      "cell_type": "code",
      "metadata": {
        "colab": {
          "base_uri": "https://localhost:8080/",
          "height": 545
        },
        "id": "_MGym6zw21CY",
        "outputId": "412fe2f2-d1d2-4001-9fa2-325e436b0cc3"
      },
      "source": [
        "#Outliers\n",
        "plt.boxplot(df.Weight)\n",
        "plt.title('Box-plot for weight')\n",
        "plt.show()\n",
        "\n",
        "plt.boxplot(df.Height)\n",
        "plt.title('Box-plot for height')\n",
        "plt.show()"
      ],
      "execution_count": 59,
      "outputs": [
        {
          "output_type": "display_data",
          "data": {
            "image/png": "[encoded data removed]",
            "text/plain": [
              "<Figure size 432x288 with 1 Axes>"
            ]
          },
          "metadata": {
            "needs_background": "light"
          }
        },
        {
          "output_type": "display_data",
          "data": {
            "image/png": "[encoded data removed]",
            "text/plain": [
              "<Figure size 432x288 with 1 Axes>"
            ]
          },
          "metadata": {
            "needs_background": "light"
          }
        }
      ]
    },
    {
      "cell_type": "code",
      "metadata": {
        "colab": {
          "base_uri": "https://localhost:8080/"
        },
        "id": "g8ALf5t221FJ",
        "outputId": "27301428-dac6-4d70-a580-120fcbc732bb"
      },
      "source": [
        "#finding relationship between gender and height\n",
        "print(df.groupby('Gender')['Height'].describe())"
      ],
      "execution_count": 60,
      "outputs": [
        {
          "output_type": "stream",
          "name": "stdout",
          "text": [
            "         count       mean       std  ...        50%        75%        max\n",
            "Gender                               ...                                 \n",
            "Female  5000.0  63.708774  2.696284  ...  63.730924  65.563565  73.389586\n",
            "Male    5000.0  69.026346  2.863362  ...  69.027709  70.988744  78.998742\n",
            "\n",
            "[2 rows x 8 columns]\n"
          ]
        }
      ]
    },
    {
      "cell_type": "code",
      "metadata": {
        "colab": {
          "base_uri": "https://localhost:8080/",
          "height": 295
        },
        "id": "spNRNl9321Hs",
        "outputId": "df337802-84e6-4ecf-acc1-8502e764830a"
      },
      "source": [
        "#scatter plot to analyse height vs weight\n",
        "weight = df['Weight']\n",
        "height = df['Height']\n",
        "plt.scatter(height, weight)\n",
        "plt.xlabel('Height')\n",
        "plt.ylabel('Weight')\n",
        "plt.title(\"Height vs Weight\")\n",
        "plt.show()"
      ],
      "execution_count": 61,
      "outputs": [
        {
          "output_type": "display_data",
          "data": {
            "image/png": "[encoded data removed]",
            "text/plain": [
              "<Figure size 432x288 with 1 Axes>"
            ]
          },
          "metadata": {
            "needs_background": "light"
          }
        }
      ]
    },
    {
      "cell_type": "code",
      "metadata": {
        "colab": {
          "base_uri": "https://localhost:8080/",
          "height": 573
        },
        "id": "wRXeIgcq21Kg",
        "outputId": "ffefff76-3c42-4109-bd38-38d5aa0a18a9"
      },
      "source": [
        "#histogram for height\n",
        "plt.hist(height, bins = 10)\n",
        "plt.xlabel('Bins')\n",
        "plt.ylabel('Frequency')\n",
        "plt.title('Histogram for height')\n",
        "plt.show()\n",
        "\n",
        "#histogram for weight\n",
        "plt.hist(weight, bins = 10)\n",
        "plt.xlabel('Bins')\n",
        "plt.ylabel('Frequency')\n",
        "plt.title('Histogram for weight')\n",
        "plt.show()"
      ],
      "execution_count": 62,
      "outputs": [
        {
          "output_type": "display_data",
          "data": {
            "image/png": "[encoded data removed]",
            "text/plain": [
              "<Figure size 432x288 with 1 Axes>"
            ]
          },
          "metadata": {
            "needs_background": "light"
          }
        },
        {
          "output_type": "display_data",
          "data": {
            "image/png": "[encoded data removed]",
            "text/plain": [
              "<Figure size 432x288 with 1 Axes>"
            ]
          },
          "metadata": {
            "needs_background": "light"
          }
        }
      ]
    },
    {
      "cell_type": "code",
      "metadata": {
        "colab": {
          "base_uri": "https://localhost:8080/"
        },
        "id": "CqI_grTD21Mq",
        "outputId": "bf30adfb-0b6f-4f64-8ceb-d3772bfcdcdd"
      },
      "source": [
        "#model to split data\n",
        "train, test = train_test_split(df, test_size=0.2)\n",
        "print(\"Test data set\")\n",
        "print(test.head())\n",
        "print()\n",
        "print(\"Train data set\")\n",
        "print(train.head())\n",
        "print('')\n",
        "print(\"No. of data in test:\" +str(len(test)))\n",
        "print(\"No. of data in train:\" +str(len(train)))\n",
        "\n",
        "print(train.groupby('Gender').count())\n",
        "#creating x and y variables\n",
        "feature_names = ['Height', 'Weight']\n",
        "x_train = train[feature_names].values.tolist()\n",
        "y_train = train['Gender']\n",
        "x_test = test[feature_names].values.tolist()\n",
        "y_test = test['Gender']"
      ],
      "execution_count": 63,
      "outputs": [
        {
          "output_type": "stream",
          "name": "stdout",
          "text": [
            "Test data set\n",
            "      Gender     Height      Weight\n",
            "5666  Female  67.910587  164.395262\n",
            "4416    Male  71.810281  203.271067\n",
            "3688    Male  71.434252  199.437923\n",
            "2616    Male  71.456487  179.443186\n",
            "8750  Female  62.719087  122.874560\n",
            "\n",
            "Train data set\n",
            "      Gender     Height      Weight\n",
            "5130  Female  64.590286  140.176082\n",
            "5763  Female  63.071171  141.214978\n",
            "4417    Male  73.865890  223.464747\n",
            "5947  Female  65.531554  158.598828\n",
            "3455    Male  72.384493  228.209887\n",
            "\n",
            "No. of data in test:2000\n",
            "No. of data in train:8000\n",
            "        Height  Weight\n",
            "Gender                \n",
            "Female    3989    3989\n",
            "Male      4011    4011\n"
          ]
        }
      ]
    },
    {
      "cell_type": "code",
      "metadata": {
        "id": "E4nvQgs121Pi"
      },
      "source": [
        "#defining classifiers\n",
        "clf1 = tree.DecisionTreeClassifier()\n",
        "clf2 = svm.SVC(gamma='auto')\n",
        "clf3 = neighbors.KNeighborsClassifier()\n",
        "clf4 = GaussianNB()\n",
        "\n",
        "#fitting data\n",
        "clf1 = clf1.fit(x_train,y_train)\n",
        "clf2 = clf2.fit(x_train,y_train)\n",
        "clf3 = clf3.fit(x_train, y_train)\n",
        "clf4 = clf4.fit(x_train, y_train)\n",
        "\n",
        "#making predictions\n",
        "prediction1 = clf1.predict(x_test)\n",
        "prediction2 = clf2.predict(x_test)\n",
        "prediction3 = clf3.predict(x_test)\n",
        "prediction4 = clf4.predict(x_test)"
      ],
      "execution_count": 64,
      "outputs": []
    },
    {
      "cell_type": "code",
      "metadata": {
        "id": "ZAlRB5Lf21Rw",
        "colab": {
          "base_uri": "https://localhost:8080/"
        },
        "outputId": "cb80f05b-45dc-4ce9-d378-4ae8cc2d8022"
      },
      "source": [
        "#checking accuracy\n",
        "r1 = accuracy_score(y_test, prediction1)\n",
        "r2 = accuracy_score(y_test, prediction2)\n",
        "r3 = accuracy_score(y_test, prediction3)\n",
        "r4 = accuracy_score(y_test, prediction4)\n",
        "\n",
        "print(\"Accuracy score of Model 1: DecisionTreeClassifier is \"+str(r1))\n",
        "print(\"Accuracy score of Model 2: SupportVectorMachine is \"+str(r2))\n",
        "print(\"Accuracy score of Model 3: KNN is \"+str(r3))\n",
        "print(\"Accuracy score of Model 4: GaussianNB is \"+str(r4))"
      ],
      "execution_count": 65,
      "outputs": [
        {
          "output_type": "stream",
          "name": "stdout",
          "text": [
            "Accuracy score of Model 1: DecisionTreeClassifier is 0.869\n",
            "Accuracy score of Model 2: SupportVectorMachine is 0.918\n",
            "Accuracy score of Model 3: KNN is 0.9085\n",
            "Accuracy score of Model 4: GaussianNB is 0.8905\n"
          ]
        }
      ]
    },
    {
      "cell_type": "code",
      "metadata": {
        "id": "Pg4Nxr-D21U8",
        "colab": {
          "base_uri": "https://localhost:8080/"
        },
        "outputId": "1464b60d-ebe1-4263-e098-d0941d72a55f"
      },
      "source": [
        "#finding misclassification rate\n",
        "mr1 = (1-metrics.accuracy_score(y_test, prediction1))\n",
        "mr2 = (1-metrics.accuracy_score(y_test, prediction2))\n",
        "mr3 = (1-metrics.accuracy_score(y_test, prediction3))\n",
        "mr4 = (1-metrics.accuracy_score(y_test, prediction4))\n",
        "print(\"Misclassification Rate of Decision Tree: \"+ str(mr1))\n",
        "print(\"Misclassification Rate of SVM: \"+ str(mr2))\n",
        "print(\"Misclassification Rate of KNN: \"+ str(mr3))\n",
        "print(\"Misclassification Rate of Naive Bayes: \"+ str(mr4))"
      ],
      "execution_count": 66,
      "outputs": [
        {
          "output_type": "stream",
          "name": "stdout",
          "text": [
            "Misclassification Rate of Decision Tree: 0.131\n",
            "Misclassification Rate of SVM: 0.08199999999999996\n",
            "Misclassification Rate of KNN: 0.09150000000000003\n",
            "Misclassification Rate of Naive Bayes: 0.10950000000000004\n"
          ]
        }
      ]
    },
    {
      "cell_type": "code",
      "metadata": {
        "colab": {
          "base_uri": "https://localhost:8080/"
        },
        "id": "9sJtujTw5ZiS",
        "outputId": "925cea5e-641d-4508-9ec7-0d9417d41121"
      },
      "source": [
        "#confusion matrix\n",
        "\n",
        "#decision tree\n",
        "cm1 = confusion_matrix(y_test, prediction1)\n",
        "TP1 = cm1[1,1]\n",
        "TN1 = cm1[0,0]\n",
        "FP1 = cm1[0,1]\n",
        "FN1 = cm1[1,0]\n",
        "\n",
        "#svm\n",
        "cm2 = confusion_matrix(y_test, prediction2)\n",
        "TP2 = cm2[1,1]\n",
        "TN2 = cm2[0,0]\n",
        "FP2 = cm2[0,1]\n",
        "FN2 = cm2[1,0]\n",
        "\n",
        "#knn\n",
        "cm3 = confusion_matrix(y_test, prediction3)\n",
        "TP3 = cm3[1,1]\n",
        "TN3 = cm3[0,0]\n",
        "FP3 = cm3[0,1]\n",
        "FN3 = cm3[1,0]\n",
        "\n",
        "#naive-bayes\n",
        "cm4 = confusion_matrix(y_test, prediction4)\n",
        "TP4 = cm4[1,1]\n",
        "TN4 = cm4[0,0]\n",
        "FP4 = cm4[0,1]\n",
        "FN4 = cm4[1,0]\n",
        "\n",
        "#sensitivity\n",
        "sen1 = TP1 / float(FN1 + TP1)\n",
        "sen2 = TP2 / float(FN2 + TP2)\n",
        "sen3 = TP3 / float(FN3 + TP3)\n",
        "sen4 = TP4 / float(FN4 + TP4)\n",
        "\n",
        "#specificity\n",
        "spec1 = TN1 / (TN1 + FP1)\n",
        "spec2 = TN2 / (TN2 + FP2)\n",
        "spec3 = TN3 / (TN3 + FP3)\n",
        "spec4 = TN4 / (TN4 + FP4)\n",
        "\n",
        "#printing\n",
        "print(\"Sensitivity Rate of Decision Tree: \"+ str(sen1))\n",
        "print(\"Sensitivity Rate of SVM: \"+ str(sen2))\n",
        "print(\"Sensitivity Rate of KNN: \"+ str(sen3))\n",
        "print(\"Sensitivity Rate of Naive Bayes: \"+ str(sen4))\n",
        "print()\n",
        "print(\"Specificity Rate of Decision Tree: \"+ str(spec1))\n",
        "print(\"Specificity Rate of SVM: \"+ str(spec2))\n",
        "print(\"Specificity Rate of KNN: \"+ str(spec3))\n",
        "print(\"Specificity Rate of Naive Bayes: \"+ str(spec4))\n",
        "print()\n",
        "print(\"Classification Report: Decision Tree\")\n",
        "print(classification_report(y_test, prediction1))\n",
        "print(\"Classification Report: SVM\")\n",
        "print(classification_report(y_test, prediction2))\n",
        "print(\"Classification Report: KNN\")\n",
        "print(classification_report(y_test, prediction3))\n",
        "print(\"Classification Report: Naive-Bayes\")\n",
        "print(classification_report(y_test, prediction4))"
      ],
      "execution_count": 67,
      "outputs": [
        {
          "output_type": "stream",
          "name": "stdout",
          "text": [
            "Sensitivity Rate of Decision Tree: 0.8685540950455005\n",
            "Sensitivity Rate of SVM: 0.917087967644085\n",
            "Sensitivity Rate of KNN: 0.8968655207280081\n",
            "Sensitivity Rate of Naive Bayes: 0.8806875631951466\n",
            "\n",
            "Specificity Rate of Decision Tree: 0.8694362017804155\n",
            "Specificity Rate of SVM: 0.9188921859545005\n",
            "Specificity Rate of KNN: 0.9198813056379822\n",
            "Specificity Rate of Naive Bayes: 0.9000989119683481\n",
            "\n",
            "Classification Report: Decision Tree\n",
            "              precision    recall  f1-score   support\n",
            "\n",
            "      Female       0.87      0.87      0.87      1011\n",
            "        Male       0.87      0.87      0.87       989\n",
            "\n",
            "    accuracy                           0.87      2000\n",
            "   macro avg       0.87      0.87      0.87      2000\n",
            "weighted avg       0.87      0.87      0.87      2000\n",
            "\n",
            "Classification Report: SVM\n",
            "              precision    recall  f1-score   support\n",
            "\n",
            "      Female       0.92      0.92      0.92      1011\n",
            "        Male       0.92      0.92      0.92       989\n",
            "\n",
            "    accuracy                           0.92      2000\n",
            "   macro avg       0.92      0.92      0.92      2000\n",
            "weighted avg       0.92      0.92      0.92      2000\n",
            "\n",
            "Classification Report: KNN\n",
            "              precision    recall  f1-score   support\n",
            "\n",
            "      Female       0.90      0.92      0.91      1011\n",
            "        Male       0.92      0.90      0.91       989\n",
            "\n",
            "    accuracy                           0.91      2000\n",
            "   macro avg       0.91      0.91      0.91      2000\n",
            "weighted avg       0.91      0.91      0.91      2000\n",
            "\n",
            "Classification Report: Naive-Bayes\n",
            "              precision    recall  f1-score   support\n",
            "\n",
            "      Female       0.89      0.90      0.89      1011\n",
            "        Male       0.90      0.88      0.89       989\n",
            "\n",
            "    accuracy                           0.89      2000\n",
            "   macro avg       0.89      0.89      0.89      2000\n",
            "weighted avg       0.89      0.89      0.89      2000\n",
            "\n"
          ]
        }
      ]
    },
    {
      "cell_type": "code",
      "metadata": {
        "id": "AUQSj85O5Zkl",
        "colab": {
          "base_uri": "https://localhost:8080/"
        },
        "outputId": "888a1120-a73e-46fb-9834-bb70fd1ad738"
      },
      "source": [
        "#Making a prediction for a user\n",
        "height = 71   #in inches\n",
        "weight = 36   #in Pounds\n",
        "prediction = clf2.predict([[height, weight]])\n",
        "print(\"The classifier predicts that you could be \" +str(prediction[0]))"
      ],
      "execution_count": 68,
      "outputs": [
        {
          "output_type": "stream",
          "name": "stdout",
          "text": [
            "The classifier predicts that you could be Male\n"
          ]
        }
      ]
    }
  ]
}